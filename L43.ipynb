{
 "cells": [
  {
   "cell_type": "markdown",
   "id": "5aeb37b1-fdad-452f-a9cc-712b85f14d6b",
   "metadata": {},
   "source": [
    "Завдання.\n",
    "Застосуйте описані в лекції методи відбору ознак на датасеті ірисів Фішера.\n",
    "\n",
    "код для застосування датасету:\n",
    "\n",
    "from sklearn import datasets\n",
    "\n",
    "iris = datasets.load_iris()\n",
    "\n",
    "1. Статистичний метод фільтрації ознак VarianceThreshold\n",
    "2. Статистичний метод фільтрації ознак SelectKBest\n",
    "3. Відбір ознак на основі ваг у моделі SelectFromModel\n",
    "4. Метод головних компонентів PCA\n",
    "5. Сингулярне розкладання матриць SVD\n",
    "6. Лінійний дискримінантний аналіз LDA"
   ]
  },
  {
   "cell_type": "code",
   "execution_count": 4,
   "id": "d3481c97-41aa-41b5-9de1-9a4e052f972d",
   "metadata": {},
   "outputs": [
    {
     "name": "stdout",
     "output_type": "stream",
     "text": [
      "Вихідні дані датасету iris мають розмірність: (150, 4)\n"
     ]
    }
   ],
   "source": [
    "from sklearn import datasets\n",
    "from sklearn.feature_selection import VarianceThreshold, SelectKBest, SelectFromModel\n",
    "from sklearn.decomposition import PCA\n",
    "from sklearn.discriminant_analysis import LinearDiscriminantAnalysis\n",
    "from sklearn.svm import LinearSVC\n",
    "from sklearn.pipeline import make_pipeline\n",
    "from sklearn.preprocessing import StandardScaler\n",
    "\n",
    "# Завантаження датасету ірисів Фішера\n",
    "iris = datasets.load_iris()\n",
    "X = iris.data\n",
    "y = iris.target\n",
    "print(f'Вихідні дані датасету мають розмірність: {X.shape}')\n"
   ]
  },
  {
   "cell_type": "code",
   "execution_count": 8,
   "id": "81647fe0-775b-437b-ae36-e3c1b0245677",
   "metadata": {},
   "outputs": [
    {
     "name": "stdout",
     "output_type": "stream",
     "text": [
      "Розмірність після використання VarianceThreshold: (150, 4)\n"
     ]
    }
   ],
   "source": [
    "# 1. Статистичний метод фільтрації ознак VarianceThreshold\n",
    "selector = VarianceThreshold()\n",
    "X_filtered = selector.fit_transform(X)\n",
    "print(f\"Розмірність після використання VarianceThreshold: {X_filtered.shape}\")\n"
   ]
  },
  {
   "cell_type": "code",
   "execution_count": 10,
   "id": "2da428dc-6b2b-4589-a316-f3e9bb642543",
   "metadata": {},
   "outputs": [
    {
     "name": "stdout",
     "output_type": "stream",
     "text": [
      "Розмірність після використання SelectKBest: (150, 2)\n"
     ]
    }
   ],
   "source": [
    "# 2. Статистичний метод фільтрації ознак SelectKBest\n",
    "selector = SelectKBest(k=2)\n",
    "X_filtered = selector.fit_transform(X, y)\n",
    "print(f\"Розмірність після використання SelectKBest: {X_filtered.shape}\")"
   ]
  },
  {
   "cell_type": "code",
   "execution_count": 11,
   "id": "f6246a7c-3c61-4381-93d2-9d5c2cf7d40b",
   "metadata": {},
   "outputs": [
    {
     "name": "stdout",
     "output_type": "stream",
     "text": [
      "Розмірність після використання SelectFromModel: (150, 3)\n"
     ]
    }
   ],
   "source": [
    "# 3. Відбір ознак на основі ваг у моделі SelectFromModel\n",
    "estimator = LinearSVC(max_iter=10000)\n",
    "selector = SelectFromModel(estimator)\n",
    "X_filtered = selector.fit_transform(X, y)\n",
    "print(f\"Розмірність після використання SelectFromModel: {X_filtered.shape}\")"
   ]
  },
  {
   "cell_type": "code",
   "execution_count": 13,
   "id": "c736c919-ec19-4a9d-891c-cee87e1a9c61",
   "metadata": {},
   "outputs": [
    {
     "name": "stdout",
     "output_type": "stream",
     "text": [
      "Розмірність після використання PCA: (150, 3)\n"
     ]
    }
   ],
   "source": [
    "# 4. Метод головних компонентів PCA\n",
    "pca = PCA(n_components=2)\n",
    "X_transformed = pca.fit_transform(X)\n",
    "print(f\"Розмірність після використання PCA: {X_filtered.shape}\")\n"
   ]
  },
  {
   "cell_type": "code",
   "execution_count": 15,
   "id": "e69080b5-00d7-4f58-8f2b-31e2beea6690",
   "metadata": {},
   "outputs": [
    {
     "name": "stdout",
     "output_type": "stream",
     "text": [
      "Розмірність після використання SVD: (150, 2)\n"
     ]
    }
   ],
   "source": [
    "# 5. Сингулярне розкладання матриць SVD\n",
    "svd = make_pipeline(StandardScaler(), PCA(n_components=2))\n",
    "X_transformed = svd.fit_transform(X)\n",
    "print(f\"Розмірність після використання SVD: {X_transformed.shape}\")"
   ]
  },
  {
   "cell_type": "code",
   "execution_count": 17,
   "id": "5391a556-c8d9-4b91-ab11-562f29dbab21",
   "metadata": {},
   "outputs": [
    {
     "name": "stdout",
     "output_type": "stream",
     "text": [
      "Розмірність після використання LDA: (150, 2)\n"
     ]
    }
   ],
   "source": [
    "# 6. Лінійний дискримінантний аналіз LDA\n",
    "lda = LinearDiscriminantAnalysis(n_components=2)\n",
    "X_transformed = lda.fit_transform(X, y)\n",
    "print(f\"Розмірність після використання LDA: {X_transformed.shape}\")"
   ]
  }
 ],
 "metadata": {
  "kernelspec": {
   "display_name": "Python 3 (ipykernel)",
   "language": "python",
   "name": "python3"
  },
  "language_info": {
   "codemirror_mode": {
    "name": "ipython",
    "version": 3
   },
   "file_extension": ".py",
   "mimetype": "text/x-python",
   "name": "python",
   "nbconvert_exporter": "python",
   "pygments_lexer": "ipython3",
   "version": "3.9.13"
  }
 },
 "nbformat": 4,
 "nbformat_minor": 5
}
